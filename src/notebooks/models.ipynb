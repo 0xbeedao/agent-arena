{
 "cells": [
  {
   "cell_type": "code",
   "execution_count": null,
   "id": "ba80e301",
   "metadata": {},
   "outputs": [],
   "source": [
    "import sys\n",
    "import os\n",
    "from typing import List, Optional\n",
    "\n",
    "sys.path.append(os.path.abspath(\"..\"))\n",
    "\n",
    "from sqlmodel import Field, SQLModel, Session\n",
    "from sqlmodel import Relationship, create_engine\n",
    "\n",
    "\n",
    "class Person(SQLModel, table=True):\n",
    "    id: str = Field(primary_key=True)\n",
    "    parent_id: Optional[str] = Field(default=None, foreign_key=\"person.id\")\n",
    "    name: str = Field()\n",
    "    parent: Optional[\"Person\"] = Relationship(\n",
    "        back_populates=\"children\", sa_relationship_kwargs={\"remote_side\": \"Person.id\"}\n",
    "    )\n",
    "    children: List[\"Person\"] = Relationship(\n",
    "        back_populates=\"parent\",\n",
    "        sa_relationship_kwargs={\"remote_side\": \"Person.parent_id\"},\n",
    "    )\n",
    "\n",
    "\n",
    "engine = create_engine(\n",
    "    \"sqlite:///:memory:\", echo=False, connect_args={\"check_same_thread\": False}\n",
    ")\n",
    "\n",
    "SQLModel.metadata.create_all(engine)"
   ]
  },
  {
   "cell_type": "code",
   "execution_count": 2,
   "id": "96e86d9f",
   "metadata": {},
   "outputs": [],
   "source": [
    "with Session(engine) as session:\n",
    "    p = Person(\n",
    "        id=\"1\",\n",
    "        name=\"Dad\",\n",
    "    )\n",
    "\n",
    "    session.add(p)\n",
    "    session.commit()"
   ]
  },
  {
   "cell_type": "code",
   "execution_count": 3,
   "id": "b7389e04",
   "metadata": {},
   "outputs": [
    {
     "name": "stdout",
     "output_type": "stream",
     "text": [
      "name='Dad' parent_id=None id='1'\n"
     ]
    }
   ],
   "source": [
    "with Session(engine) as session:\n",
    "\n",
    "    dad = session.get(Person, \"1\")\n",
    "    print(dad)"
   ]
  },
  {
   "cell_type": "code",
   "execution_count": 4,
   "id": "3fb7d718",
   "metadata": {},
   "outputs": [],
   "source": [
    "with Session(engine) as session:\n",
    "    c = Person(id=\"3\", name=\"Mia\", parent_id=\"1\")\n",
    "    session.add(c)\n",
    "    session.commit()\n",
    "    session.refresh(c)"
   ]
  },
  {
   "cell_type": "code",
   "execution_count": 5,
   "id": "0f47cc01",
   "metadata": {},
   "outputs": [
    {
     "name": "stdout",
     "output_type": "stream",
     "text": [
      "Mia\n",
      "name='Mia' parent_id='1' id='3'\n",
      "parent=name='Dad' parent_id=None id='1'\n",
      "children=[]\n",
      "Dad\n",
      "name='Dad' parent_id=None id='1'\n",
      "parent=None\n",
      "children=[Person(name='Mia', parent_id='1', id='3')]\n"
     ]
    }
   ],
   "source": [
    "with Session(engine) as session:\n",
    "    m = session.get(Person, \"3\")\n",
    "    assert m\n",
    "    print(\"Mia\")\n",
    "    print(m)\n",
    "    print(f\"parent={m.parent}\")\n",
    "    print(f\"children={m.children}\")\n",
    "\n",
    "    d = session.get(Person, \"1\")\n",
    "    assert d\n",
    "    print(\"Dad\")\n",
    "    print(d)\n",
    "    print(f\"parent={d.parent}\")\n",
    "    print(f\"children={d.children}\")"
   ]
  }
 ],
 "metadata": {
  "kernelspec": {
   "display_name": ".venv",
   "language": "python",
   "name": "python3"
  },
  "language_info": {
   "codemirror_mode": {
    "name": "ipython",
    "version": 3
   },
   "file_extension": ".py",
   "mimetype": "text/x-python",
   "name": "python",
   "nbconvert_exporter": "python",
   "pygments_lexer": "ipython3",
   "version": "3.11.11"
  }
 },
 "nbformat": 4,
 "nbformat_minor": 5
}
