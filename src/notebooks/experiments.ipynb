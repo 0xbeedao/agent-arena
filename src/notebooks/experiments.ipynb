{
 "cells": [
  {
   "cell_type": "code",
   "execution_count": 1,
   "id": "24a085b4",
   "metadata": {},
   "outputs": [
    {
     "name": "stdout",
     "output_type": "stream",
     "text": [
      "\u001b[2m2025-05-03 18:39:36\u001b[0m [\u001b[32m\u001b[1minfo     \u001b[0m] \u001b[1mSetting up Job DB at jobs.db  \u001b[0m \u001b[36mdb\u001b[0m=\u001b[35mjobs.db\u001b[0m \u001b[36mmodule\u001b[0m=\u001b[35mqueue_service\u001b[0m\n",
      "\u001b[2m2025-05-03 18:39:36\u001b[0m [\u001b[33m\u001b[1mwarning  \u001b[0m] \u001b[1mDraining the queue            \u001b[0m \u001b[36mdb\u001b[0m=\u001b[35mjobs.db\u001b[0m \u001b[36mmodule\u001b[0m=\u001b[35mqueue_service\u001b[0m\n",
      "(Job(id='test 1', active=True, created_at=datetime.datetime(2025, 5, 3, 18, 39, 36, 842705), updated_at=None, deleted_at=None, command='test', payload='I am a test payload', caller='test caller', status='IDLE'), Message(data='{\"id\":\"test 1\",\"active\":true,\"created_at\":\"2025-05-03T18:39:36.842705\",\"updated_at\":null,\"deleted_at\":null,\"command\":\"test\",\"payload\":\"I am a test payload\",\"caller\":\"test caller\",\"status\":\"IDLE\"}', message_id='06816c55-8d7b-7e7c-8000-2687ea3b5a6a', status=1, in_time=1746322776842765462, lock_time=1746322776843062865, done_time=None))\n",
      "---\n",
      "id='test 2' active=True created_at=datetime.datetime(2025, 5, 3, 18, 39, 36, 842891) updated_at=None deleted_at=None command='test' payload='I am a test payload' caller='test caller' status='IDLE'\n",
      "\u001b[2m2025-05-03 18:39:36\u001b[0m [\u001b[32m\u001b[1minfo     \u001b[0m] \u001b[1mTask done: task# 06816c55-8d7c-78d8-8000-9b9513b00777 job# none\u001b[0m \u001b[36mdb\u001b[0m=\u001b[35mjobs.db\u001b[0m \u001b[36mmodule\u001b[0m=\u001b[35mqueue_service\u001b[0m\n",
      "None\n"
     ]
    }
   ],
   "source": [
    "import sys\n",
    "import os\n",
    "sys.path.append(os.path.abspath('..'))\n",
    "\n",
    "from agentarena.services.queue_service import QueueService\n",
    "from agentarena.models.job import Job\n",
    "\n",
    "from litequeue import LiteQueue\n",
    "    \n",
    "def get_q(filename: str, memory: bool = False) -> LiteQueue:\n",
    "    dbfile = \":memory:\" if memory else filename\n",
    "\n",
    "    return LiteQueue(dbfile)\n",
    "\n",
    "q = QueueService(\"<projectroot>\", \"jobs.db\", get_q)\n",
    "q.drain()\n",
    "\n",
    "j1 = Job(\n",
    "    id=\"test 1\",\n",
    "    command=\"test\",\n",
    "    payload=\"I am a test payload\",\n",
    "    caller=\"test caller\"\n",
    ")\n",
    "j2 = Job(\n",
    "    id=\"test 2\",\n",
    "    command=\"test\",\n",
    "    payload=\"I am a test payload\",\n",
    "    caller=\"test caller\"\n",
    ")\n",
    "q.send_job(j1)\n",
    "q.send_job(j2)\n",
    "\n",
    "print(q.get_job())\n",
    "print('---')\n",
    "\n",
    "j1, t1 = q.get_job()\n",
    "print(j1)\n",
    "q.done(t1)\n",
    "\n",
    "j2, t2 = q.get_job()\n",
    "q.done(t2)\n",
    "print(j2)\n",
    "\n",
    "\n"
   ]
  },
  {
   "cell_type": "code",
   "execution_count": 4,
   "id": "23956538",
   "metadata": {},
   "outputs": [
    {
     "name": "stdout",
     "output_type": "stream",
     "text": [
      "{'id': 'test2', 'name': 'test', 'timestamp': '2025-04-28T21:01:59.552417'}\n"
     ]
    }
   ],
   "source": [
    "from sqlite_utils import Database\n",
    "from datetime import datetime\n",
    "\n",
    "db = Database(\"test.db\")\n",
    "db[\"ex1\"].insert({\"id\": \"test2\", \"name\": \"test\", \"timestamp\": datetime.now()}, pk=\"id\")\n",
    "print (db[\"ex1\"].get(\"test2\"))"
   ]
  },
  {
   "cell_type": "code",
   "execution_count": null,
   "id": "d6916d2d",
   "metadata": {},
   "outputs": [
    {
     "name": "stdout",
     "output_type": "stream",
     "text": [
      "CREATE TABLE [ex1] (\n",
      "   [id] TEXT PRIMARY KEY,\n",
      "   [name] TEXT,\n",
      "   [timestamp] TEXT\n",
      ")\n",
      "2025-04-28T21:01:59.552417\n"
     ]
    }
   ],
   "source": [
    "print (db['ex1'].schema)\n",
    "print (db['ex1'].get(\"test2\")[\"timestamp\"])"
   ]
  },
  {
   "cell_type": "code",
   "execution_count": 13,
   "id": "db0a95ac",
   "metadata": {},
   "outputs": [],
   "source": [
    "author = db['authors'].insert({\n",
    "    \"name\": \"Jeb Doe\",\n",
    "    \"id\": \"jeb\"\n",
    "}, pk=\"id\")\n",
    "\n",
    "posts = db['posts'].create({\n",
    "    \"id\": str,\n",
    "    \"message\": str,\n",
    "    \"author_id\": str,\n",
    "}, replace=True, pk=\"id\", foreign_keys=[\"author_id\"])\n"
   ]
  },
  {
   "cell_type": "code",
   "execution_count": 14,
   "id": "15bf1e11",
   "metadata": {},
   "outputs": [
    {
     "data": {
      "text/plain": [
       "<Table posts (id, message, author_id)>"
      ]
     },
     "execution_count": 14,
     "metadata": {},
     "output_type": "execute_result"
    }
   ],
   "source": [
    "posts.insert({\n",
    "    \"message\": \"Hello world \"\n",
    "})"
   ]
  },
  {
   "cell_type": "code",
   "execution_count": 22,
   "id": "b45297c8",
   "metadata": {},
   "outputs": [
    {
     "ename": "IntegrityError",
     "evalue": "FOREIGN KEY constraint failed",
     "output_type": "error",
     "traceback": [
      "\u001b[31m---------------------------------------------------------------------------\u001b[39m",
      "\u001b[31mIntegrityError\u001b[39m                            Traceback (most recent call last)",
      "\u001b[36mCell\u001b[39m\u001b[36m \u001b[39m\u001b[32mIn[22]\u001b[39m\u001b[32m, line 4\u001b[39m\n\u001b[32m      1\u001b[39m \u001b[38;5;66;03m# testing a bad id\u001b[39;00m\n\u001b[32m      2\u001b[39m db.execute(\u001b[33m\"\u001b[39m\u001b[33mPRAGMA foreign_keys = ON\u001b[39m\u001b[33m\"\u001b[39m)\n\u001b[32m----> \u001b[39m\u001b[32m4\u001b[39m \u001b[43mposts\u001b[49m\u001b[43m.\u001b[49m\u001b[43minsert\u001b[49m\u001b[43m(\u001b[49m\u001b[43m{\u001b[49m\n\u001b[32m      5\u001b[39m \u001b[43m    \u001b[49m\u001b[33;43m\"\u001b[39;49m\u001b[33;43mmessage\u001b[39;49m\u001b[33;43m\"\u001b[39;49m\u001b[43m:\u001b[49m\u001b[43m \u001b[49m\u001b[33;43m\"\u001b[39;49m\u001b[33;43mHello world 3\u001b[39;49m\u001b[33;43m\"\u001b[39;49m\u001b[43m,\u001b[49m\n\u001b[32m      6\u001b[39m \u001b[43m    \u001b[49m\u001b[33;43m\"\u001b[39;49m\u001b[33;43mauthor_id\u001b[39;49m\u001b[33;43m\"\u001b[39;49m\u001b[43m:\u001b[49m\u001b[43m \u001b[49m\u001b[33;43m\"\u001b[39;49m\u001b[33;43mbad_id\u001b[39;49m\u001b[33;43m\"\u001b[39;49m\n\u001b[32m      7\u001b[39m \u001b[43m}\u001b[49m\u001b[43m,\u001b[49m\u001b[43m \u001b[49m\u001b[43mforeign_keys\u001b[49m\u001b[43m=\u001b[49m\u001b[43m[\u001b[49m\u001b[33;43m\"\u001b[39;49m\u001b[33;43mauthor_id\u001b[39;49m\u001b[33;43m\"\u001b[39;49m\u001b[43m]\u001b[49m\u001b[43m)\u001b[49m\n",
      "\u001b[36mFile \u001b[39m\u001b[32m~/work/agent-arena/.venv/lib/python3.11/site-packages/sqlite_utils/db.py:3219\u001b[39m, in \u001b[36mTable.insert\u001b[39m\u001b[34m(self, record, pk, foreign_keys, column_order, not_null, defaults, hash_id, hash_id_columns, alter, ignore, replace, extracts, conversions, columns, strict)\u001b[39m\n\u001b[32m   3168\u001b[39m \u001b[38;5;28;01mdef\u001b[39;00m\u001b[38;5;250m \u001b[39m\u001b[34minsert\u001b[39m(\n\u001b[32m   3169\u001b[39m     \u001b[38;5;28mself\u001b[39m,\n\u001b[32m   3170\u001b[39m     record: Dict[\u001b[38;5;28mstr\u001b[39m, Any],\n\u001b[32m   (...)\u001b[39m\u001b[32m   3184\u001b[39m     strict: Optional[Union[\u001b[38;5;28mbool\u001b[39m, Default]] = DEFAULT,\n\u001b[32m   3185\u001b[39m ) -> \u001b[33m\"\u001b[39m\u001b[33mTable\u001b[39m\u001b[33m\"\u001b[39m:\n\u001b[32m   3186\u001b[39m \u001b[38;5;250m    \u001b[39m\u001b[33;03m\"\"\"\u001b[39;00m\n\u001b[32m   3187\u001b[39m \u001b[33;03m    Insert a single record into the table. The table will be created with a schema that matches\u001b[39;00m\n\u001b[32m   3188\u001b[39m \u001b[33;03m    the inserted record if it does not already exist, see :ref:`python_api_creating_tables`.\u001b[39;00m\n\u001b[32m   (...)\u001b[39m\u001b[32m   3217\u001b[39m \u001b[33;03m    :param strict: Boolean, apply STRICT mode if creating the table.\u001b[39;00m\n\u001b[32m   3218\u001b[39m \u001b[33;03m    \"\"\"\u001b[39;00m\n\u001b[32m-> \u001b[39m\u001b[32m3219\u001b[39m     \u001b[38;5;28;01mreturn\u001b[39;00m \u001b[38;5;28;43mself\u001b[39;49m\u001b[43m.\u001b[49m\u001b[43minsert_all\u001b[49m\u001b[43m(\u001b[49m\n\u001b[32m   3220\u001b[39m \u001b[43m        \u001b[49m\u001b[43m[\u001b[49m\u001b[43mrecord\u001b[49m\u001b[43m]\u001b[49m\u001b[43m,\u001b[49m\n\u001b[32m   3221\u001b[39m \u001b[43m        \u001b[49m\u001b[43mpk\u001b[49m\u001b[43m=\u001b[49m\u001b[43mpk\u001b[49m\u001b[43m,\u001b[49m\n\u001b[32m   3222\u001b[39m \u001b[43m        \u001b[49m\u001b[43mforeign_keys\u001b[49m\u001b[43m=\u001b[49m\u001b[43mforeign_keys\u001b[49m\u001b[43m,\u001b[49m\n\u001b[32m   3223\u001b[39m \u001b[43m        \u001b[49m\u001b[43mcolumn_order\u001b[49m\u001b[43m=\u001b[49m\u001b[43mcolumn_order\u001b[49m\u001b[43m,\u001b[49m\n\u001b[32m   3224\u001b[39m \u001b[43m        \u001b[49m\u001b[43mnot_null\u001b[49m\u001b[43m=\u001b[49m\u001b[43mnot_null\u001b[49m\u001b[43m,\u001b[49m\n\u001b[32m   3225\u001b[39m \u001b[43m        \u001b[49m\u001b[43mdefaults\u001b[49m\u001b[43m=\u001b[49m\u001b[43mdefaults\u001b[49m\u001b[43m,\u001b[49m\n\u001b[32m   3226\u001b[39m \u001b[43m        \u001b[49m\u001b[43mhash_id\u001b[49m\u001b[43m=\u001b[49m\u001b[43mhash_id\u001b[49m\u001b[43m,\u001b[49m\n\u001b[32m   3227\u001b[39m \u001b[43m        \u001b[49m\u001b[43mhash_id_columns\u001b[49m\u001b[43m=\u001b[49m\u001b[43mhash_id_columns\u001b[49m\u001b[43m,\u001b[49m\n\u001b[32m   3228\u001b[39m \u001b[43m        \u001b[49m\u001b[43malter\u001b[49m\u001b[43m=\u001b[49m\u001b[43malter\u001b[49m\u001b[43m,\u001b[49m\n\u001b[32m   3229\u001b[39m \u001b[43m        \u001b[49m\u001b[43mignore\u001b[49m\u001b[43m=\u001b[49m\u001b[43mignore\u001b[49m\u001b[43m,\u001b[49m\n\u001b[32m   3230\u001b[39m \u001b[43m        \u001b[49m\u001b[43mreplace\u001b[49m\u001b[43m=\u001b[49m\u001b[43mreplace\u001b[49m\u001b[43m,\u001b[49m\n\u001b[32m   3231\u001b[39m \u001b[43m        \u001b[49m\u001b[43mextracts\u001b[49m\u001b[43m=\u001b[49m\u001b[43mextracts\u001b[49m\u001b[43m,\u001b[49m\n\u001b[32m   3232\u001b[39m \u001b[43m        \u001b[49m\u001b[43mconversions\u001b[49m\u001b[43m=\u001b[49m\u001b[43mconversions\u001b[49m\u001b[43m,\u001b[49m\n\u001b[32m   3233\u001b[39m \u001b[43m        \u001b[49m\u001b[43mcolumns\u001b[49m\u001b[43m=\u001b[49m\u001b[43mcolumns\u001b[49m\u001b[43m,\u001b[49m\n\u001b[32m   3234\u001b[39m \u001b[43m        \u001b[49m\u001b[43mstrict\u001b[49m\u001b[43m=\u001b[49m\u001b[43mstrict\u001b[49m\u001b[43m,\u001b[49m\n\u001b[32m   3235\u001b[39m \u001b[43m    \u001b[49m\u001b[43m)\u001b[49m\n",
      "\u001b[36mFile \u001b[39m\u001b[32m~/work/agent-arena/.venv/lib/python3.11/site-packages/sqlite_utils/db.py:3351\u001b[39m, in \u001b[36mTable.insert_all\u001b[39m\u001b[34m(self, records, pk, foreign_keys, column_order, not_null, defaults, batch_size, hash_id, hash_id_columns, alter, ignore, replace, truncate, extracts, conversions, columns, upsert, analyze, strict)\u001b[39m\n\u001b[32m   3345\u001b[39m             all_columns += [\n\u001b[32m   3346\u001b[39m                 column \u001b[38;5;28;01mfor\u001b[39;00m column \u001b[38;5;129;01min\u001b[39;00m record \u001b[38;5;28;01mif\u001b[39;00m column \u001b[38;5;129;01mnot\u001b[39;00m \u001b[38;5;129;01min\u001b[39;00m all_columns\n\u001b[32m   3347\u001b[39m             ]\n\u001b[32m   3349\u001b[39m     first = \u001b[38;5;28;01mFalse\u001b[39;00m\n\u001b[32m-> \u001b[39m\u001b[32m3351\u001b[39m     \u001b[38;5;28;43mself\u001b[39;49m\u001b[43m.\u001b[49m\u001b[43minsert_chunk\u001b[49m\u001b[43m(\u001b[49m\n\u001b[32m   3352\u001b[39m \u001b[43m        \u001b[49m\u001b[43malter\u001b[49m\u001b[43m,\u001b[49m\n\u001b[32m   3353\u001b[39m \u001b[43m        \u001b[49m\u001b[43mextracts\u001b[49m\u001b[43m,\u001b[49m\n\u001b[32m   3354\u001b[39m \u001b[43m        \u001b[49m\u001b[43mchunk\u001b[49m\u001b[43m,\u001b[49m\n\u001b[32m   3355\u001b[39m \u001b[43m        \u001b[49m\u001b[43mall_columns\u001b[49m\u001b[43m,\u001b[49m\n\u001b[32m   3356\u001b[39m \u001b[43m        \u001b[49m\u001b[43mhash_id\u001b[49m\u001b[43m,\u001b[49m\n\u001b[32m   3357\u001b[39m \u001b[43m        \u001b[49m\u001b[43mhash_id_columns\u001b[49m\u001b[43m,\u001b[49m\n\u001b[32m   3358\u001b[39m \u001b[43m        \u001b[49m\u001b[43mupsert\u001b[49m\u001b[43m,\u001b[49m\n\u001b[32m   3359\u001b[39m \u001b[43m        \u001b[49m\u001b[43mpk\u001b[49m\u001b[43m,\u001b[49m\n\u001b[32m   3360\u001b[39m \u001b[43m        \u001b[49m\u001b[43mnot_null\u001b[49m\u001b[43m,\u001b[49m\n\u001b[32m   3361\u001b[39m \u001b[43m        \u001b[49m\u001b[43mconversions\u001b[49m\u001b[43m,\u001b[49m\n\u001b[32m   3362\u001b[39m \u001b[43m        \u001b[49m\u001b[43mnum_records_processed\u001b[49m\u001b[43m,\u001b[49m\n\u001b[32m   3363\u001b[39m \u001b[43m        \u001b[49m\u001b[43mreplace\u001b[49m\u001b[43m,\u001b[49m\n\u001b[32m   3364\u001b[39m \u001b[43m        \u001b[49m\u001b[43mignore\u001b[49m\u001b[43m,\u001b[49m\n\u001b[32m   3365\u001b[39m \u001b[43m    \u001b[49m\u001b[43m)\u001b[49m\n\u001b[32m   3367\u001b[39m \u001b[38;5;28;01mif\u001b[39;00m analyze:\n\u001b[32m   3368\u001b[39m     \u001b[38;5;28mself\u001b[39m.analyze()\n",
      "\u001b[36mFile \u001b[39m\u001b[32m~/work/agent-arena/.venv/lib/python3.11/site-packages/sqlite_utils/db.py:3109\u001b[39m, in \u001b[36mTable.insert_chunk\u001b[39m\u001b[34m(self, alter, extracts, chunk, all_columns, hash_id, hash_id_columns, upsert, pk, not_null, conversions, num_records_processed, replace, ignore)\u001b[39m\n\u001b[32m   3107\u001b[39m \u001b[38;5;28;01mfor\u001b[39;00m query, params \u001b[38;5;129;01min\u001b[39;00m queries_and_params:\n\u001b[32m   3108\u001b[39m     \u001b[38;5;28;01mtry\u001b[39;00m:\n\u001b[32m-> \u001b[39m\u001b[32m3109\u001b[39m         result = \u001b[38;5;28;43mself\u001b[39;49m\u001b[43m.\u001b[49m\u001b[43mdb\u001b[49m\u001b[43m.\u001b[49m\u001b[43mexecute\u001b[49m\u001b[43m(\u001b[49m\u001b[43mquery\u001b[49m\u001b[43m,\u001b[49m\u001b[43m \u001b[49m\u001b[43mparams\u001b[49m\u001b[43m)\u001b[49m\n\u001b[32m   3110\u001b[39m     \u001b[38;5;28;01mexcept\u001b[39;00m OperationalError \u001b[38;5;28;01mas\u001b[39;00m e:\n\u001b[32m   3111\u001b[39m         \u001b[38;5;28;01mif\u001b[39;00m alter \u001b[38;5;129;01mand\u001b[39;00m (\u001b[33m\"\u001b[39m\u001b[33m column\u001b[39m\u001b[33m\"\u001b[39m \u001b[38;5;129;01min\u001b[39;00m e.args[\u001b[32m0\u001b[39m]):\n\u001b[32m   3112\u001b[39m             \u001b[38;5;66;03m# Attempt to add any missing columns, then try again\u001b[39;00m\n",
      "\u001b[36mFile \u001b[39m\u001b[32m~/work/agent-arena/.venv/lib/python3.11/site-packages/sqlite_utils/db.py:533\u001b[39m, in \u001b[36mDatabase.execute\u001b[39m\u001b[34m(self, sql, parameters)\u001b[39m\n\u001b[32m    531\u001b[39m     \u001b[38;5;28mself\u001b[39m._tracer(sql, parameters)\n\u001b[32m    532\u001b[39m \u001b[38;5;28;01mif\u001b[39;00m parameters \u001b[38;5;129;01mis\u001b[39;00m \u001b[38;5;129;01mnot\u001b[39;00m \u001b[38;5;28;01mNone\u001b[39;00m:\n\u001b[32m--> \u001b[39m\u001b[32m533\u001b[39m     \u001b[38;5;28;01mreturn\u001b[39;00m \u001b[38;5;28mself\u001b[39m.conn.execute(sql, parameters)\n\u001b[32m    534\u001b[39m \u001b[38;5;28;01melse\u001b[39;00m:\n\u001b[32m    535\u001b[39m     \u001b[38;5;28;01mreturn\u001b[39;00m \u001b[38;5;28mself\u001b[39m.conn.execute(sql)\n",
      "\u001b[31mIntegrityError\u001b[39m: FOREIGN KEY constraint failed"
     ]
    }
   ],
   "source": [
    "# testing a bad id\n",
    "db.execute(\"PRAGMA foreign_keys = ON\")\n",
    "\n",
    "posts.insert({\n",
    "    \"message\": \"Hello world 3\",\n",
    "    \"author_id\": \"bad_id\"\n",
    "}, foreign_keys=[\"author_id\"])\n"
   ]
  },
  {
   "cell_type": "code",
   "execution_count": 21,
   "id": "b4fec3d6",
   "metadata": {},
   "outputs": [
    {
     "name": "stdout",
     "output_type": "stream",
     "text": [
      "[{'id': None, 'message': 'Hello world ', 'author_id': None}, {'id': None, 'message': 'Hello world 2', 'author_id': 'bad_id'}, {'id': None, 'message': 'Hello world 3', 'author_id': 'bad_id'}]\n"
     ]
    }
   ],
   "source": [
    "posts.schema\n",
    "print ([row for row in posts.rows])\n"
   ]
  },
  {
   "cell_type": "code",
   "execution_count": 24,
   "id": "a4b4c2cb",
   "metadata": {},
   "outputs": [],
   "source": [
    "# Is there a FK inferred automatically?\n",
    "\n",
    "fktest = db[\"fktest\"].insert({\n",
    "    \"id\": 1,\n",
    "    \"message\": \"test\",\n",
    "    \"author_id\": \"john\"\n",
    "})\n",
    "\n"
   ]
  },
  {
   "cell_type": "code",
   "execution_count": 25,
   "id": "6a171816",
   "metadata": {},
   "outputs": [
    {
     "data": {
      "text/plain": [
       "'CREATE TABLE [fktest] (\\n   [id] INTEGER,\\n   [message] TEXT,\\n   [author_id] TEXT\\n)'"
      ]
     },
     "execution_count": 25,
     "metadata": {},
     "output_type": "execute_result"
    }
   ],
   "source": [
    "fktest.schema"
   ]
  },
  {
   "cell_type": "code",
   "execution_count": 27,
   "id": "1fc3c378",
   "metadata": {},
   "outputs": [
    {
     "data": {
      "text/plain": [
       "<Table insertit (id)>"
      ]
     },
     "execution_count": 27,
     "metadata": {},
     "output_type": "execute_result"
    }
   ],
   "source": [
    "# can I insert with a null FK?\n",
    "\n",
    "db['insertit'].insert({\n",
    "    \"id\": \"foo\"\n",
    "}, foreign_keys=[])\n"
   ]
  },
  {
   "cell_type": "code",
   "execution_count": 32,
   "id": "21e4e76b",
   "metadata": {},
   "outputs": [
    {
     "data": {
      "text/plain": [
       "'CREATE TABLE [insertit] (\\n   [id] TEXT\\n)'"
      ]
     },
     "execution_count": 32,
     "metadata": {},
     "output_type": "execute_result"
    }
   ],
   "source": [
    "db['insertit'].schema\n"
   ]
  },
  {
   "cell_type": "code",
   "execution_count": null,
   "id": "0f7d44fd",
   "metadata": {},
   "outputs": [
    {
     "name": "stdout",
     "output_type": "stream",
     "text": [
      "id=None active=True created_at=None updated_at=None deleted_at=None FOREIGN_KEYS=[] name='Aggressive Player' personality='Aggressive' instructions='Always attack when possible.' description='A strategy for aggressive play style.' role=<StrategyType.PLAYER: 'player'>\n"
     ]
    }
   ],
   "source": [
    "from agentarena.models.strategy import StrategyDTO\n",
    "\n",
    "s = StrategyDTO.model_validate_json('''\n",
    "                                 {\n",
    "  \"name\": \"Aggressive Player\",\n",
    "  \"personality\": \"Aggressive\",\n",
    "  \"instructions\": \"Always attack when possible.\",\n",
    "  \"description\": \"A strategy for aggressive play style.\",\n",
    "  \"role\": \"player\"\n",
    "}\n",
    "''')\n",
    "\n",
    "print(s)"
   ]
  },
  {
   "cell_type": "code",
   "execution_count": 41,
   "id": "717c719f",
   "metadata": {},
   "outputs": [
    {
     "name": "stdout",
     "output_type": "stream",
     "text": [
      "{\"id\":null,\"active\":true,\"created_at\":null,\"updated_at\":null,\"deleted_at\":null,\"FOREIGN_KEYS\":[],\"name\":\"Aggressive Player\",\"personality\":\"Aggressive\",\"instructions\":\"Always attack when possible.\",\"description\":\"A strategy for aggressive play style.\",\"role\":\"player\"}\n"
     ]
    },
    {
     "ename": "AttributeError",
     "evalue": "'str' object has no attribute 'keys'",
     "output_type": "error",
     "traceback": [
      "\u001b[31m---------------------------------------------------------------------------\u001b[39m",
      "\u001b[31mAttributeError\u001b[39m                            Traceback (most recent call last)",
      "\u001b[36mCell\u001b[39m\u001b[36m \u001b[39m\u001b[32mIn[41]\u001b[39m\u001b[32m, line 4\u001b[39m\n\u001b[32m      2\u001b[39m text = s.model_dump_json()\n\u001b[32m      3\u001b[39m \u001b[38;5;28mprint\u001b[39m(text)\n\u001b[32m----> \u001b[39m\u001b[32m4\u001b[39m \u001b[43mdb\u001b[49m\u001b[43m[\u001b[49m\u001b[33;43m\"\u001b[39;49m\u001b[33;43mstrategies\u001b[39;49m\u001b[33;43m\"\u001b[39;49m\u001b[43m]\u001b[49m\u001b[43m.\u001b[49m\u001b[43minsert\u001b[49m\u001b[43m(\u001b[49m\u001b[43mtext\u001b[49m\u001b[43m,\u001b[49m\u001b[43m \u001b[49m\u001b[43mpk\u001b[49m\u001b[43m=\u001b[49m\u001b[33;43m\"\u001b[39;49m\u001b[33;43mid\u001b[39;49m\u001b[33;43m\"\u001b[39;49m\u001b[43m)\u001b[49m\n\u001b[32m      5\u001b[39m \u001b[38;5;28mprint\u001b[39m(db[\u001b[33m\"\u001b[39m\u001b[33mstrategies\u001b[39m\u001b[33m\"\u001b[39m].get(s.id))\n",
      "\u001b[36mFile \u001b[39m\u001b[32m~/work/agent-arena/.venv/lib/python3.11/site-packages/sqlite_utils/db.py:3219\u001b[39m, in \u001b[36mTable.insert\u001b[39m\u001b[34m(self, record, pk, foreign_keys, column_order, not_null, defaults, hash_id, hash_id_columns, alter, ignore, replace, extracts, conversions, columns, strict)\u001b[39m\n\u001b[32m   3168\u001b[39m \u001b[38;5;28;01mdef\u001b[39;00m\u001b[38;5;250m \u001b[39m\u001b[34minsert\u001b[39m(\n\u001b[32m   3169\u001b[39m     \u001b[38;5;28mself\u001b[39m,\n\u001b[32m   3170\u001b[39m     record: Dict[\u001b[38;5;28mstr\u001b[39m, Any],\n\u001b[32m   (...)\u001b[39m\u001b[32m   3184\u001b[39m     strict: Optional[Union[\u001b[38;5;28mbool\u001b[39m, Default]] = DEFAULT,\n\u001b[32m   3185\u001b[39m ) -> \u001b[33m\"\u001b[39m\u001b[33mTable\u001b[39m\u001b[33m\"\u001b[39m:\n\u001b[32m   3186\u001b[39m \u001b[38;5;250m    \u001b[39m\u001b[33;03m\"\"\"\u001b[39;00m\n\u001b[32m   3187\u001b[39m \u001b[33;03m    Insert a single record into the table. The table will be created with a schema that matches\u001b[39;00m\n\u001b[32m   3188\u001b[39m \u001b[33;03m    the inserted record if it does not already exist, see :ref:`python_api_creating_tables`.\u001b[39;00m\n\u001b[32m   (...)\u001b[39m\u001b[32m   3217\u001b[39m \u001b[33;03m    :param strict: Boolean, apply STRICT mode if creating the table.\u001b[39;00m\n\u001b[32m   3218\u001b[39m \u001b[33;03m    \"\"\"\u001b[39;00m\n\u001b[32m-> \u001b[39m\u001b[32m3219\u001b[39m     \u001b[38;5;28;01mreturn\u001b[39;00m \u001b[38;5;28;43mself\u001b[39;49m\u001b[43m.\u001b[49m\u001b[43minsert_all\u001b[49m\u001b[43m(\u001b[49m\n\u001b[32m   3220\u001b[39m \u001b[43m        \u001b[49m\u001b[43m[\u001b[49m\u001b[43mrecord\u001b[49m\u001b[43m]\u001b[49m\u001b[43m,\u001b[49m\n\u001b[32m   3221\u001b[39m \u001b[43m        \u001b[49m\u001b[43mpk\u001b[49m\u001b[43m=\u001b[49m\u001b[43mpk\u001b[49m\u001b[43m,\u001b[49m\n\u001b[32m   3222\u001b[39m \u001b[43m        \u001b[49m\u001b[43mforeign_keys\u001b[49m\u001b[43m=\u001b[49m\u001b[43mforeign_keys\u001b[49m\u001b[43m,\u001b[49m\n\u001b[32m   3223\u001b[39m \u001b[43m        \u001b[49m\u001b[43mcolumn_order\u001b[49m\u001b[43m=\u001b[49m\u001b[43mcolumn_order\u001b[49m\u001b[43m,\u001b[49m\n\u001b[32m   3224\u001b[39m \u001b[43m        \u001b[49m\u001b[43mnot_null\u001b[49m\u001b[43m=\u001b[49m\u001b[43mnot_null\u001b[49m\u001b[43m,\u001b[49m\n\u001b[32m   3225\u001b[39m \u001b[43m        \u001b[49m\u001b[43mdefaults\u001b[49m\u001b[43m=\u001b[49m\u001b[43mdefaults\u001b[49m\u001b[43m,\u001b[49m\n\u001b[32m   3226\u001b[39m \u001b[43m        \u001b[49m\u001b[43mhash_id\u001b[49m\u001b[43m=\u001b[49m\u001b[43mhash_id\u001b[49m\u001b[43m,\u001b[49m\n\u001b[32m   3227\u001b[39m \u001b[43m        \u001b[49m\u001b[43mhash_id_columns\u001b[49m\u001b[43m=\u001b[49m\u001b[43mhash_id_columns\u001b[49m\u001b[43m,\u001b[49m\n\u001b[32m   3228\u001b[39m \u001b[43m        \u001b[49m\u001b[43malter\u001b[49m\u001b[43m=\u001b[49m\u001b[43malter\u001b[49m\u001b[43m,\u001b[49m\n\u001b[32m   3229\u001b[39m \u001b[43m        \u001b[49m\u001b[43mignore\u001b[49m\u001b[43m=\u001b[49m\u001b[43mignore\u001b[49m\u001b[43m,\u001b[49m\n\u001b[32m   3230\u001b[39m \u001b[43m        \u001b[49m\u001b[43mreplace\u001b[49m\u001b[43m=\u001b[49m\u001b[43mreplace\u001b[49m\u001b[43m,\u001b[49m\n\u001b[32m   3231\u001b[39m \u001b[43m        \u001b[49m\u001b[43mextracts\u001b[49m\u001b[43m=\u001b[49m\u001b[43mextracts\u001b[49m\u001b[43m,\u001b[49m\n\u001b[32m   3232\u001b[39m \u001b[43m        \u001b[49m\u001b[43mconversions\u001b[49m\u001b[43m=\u001b[49m\u001b[43mconversions\u001b[49m\u001b[43m,\u001b[49m\n\u001b[32m   3233\u001b[39m \u001b[43m        \u001b[49m\u001b[43mcolumns\u001b[49m\u001b[43m=\u001b[49m\u001b[43mcolumns\u001b[49m\u001b[43m,\u001b[49m\n\u001b[32m   3234\u001b[39m \u001b[43m        \u001b[49m\u001b[43mstrict\u001b[49m\u001b[43m=\u001b[49m\u001b[43mstrict\u001b[49m\u001b[43m,\u001b[49m\n\u001b[32m   3235\u001b[39m \u001b[43m    \u001b[49m\u001b[43m)\u001b[49m\n",
      "\u001b[36mFile \u001b[39m\u001b[32m~/work/agent-arena/.venv/lib/python3.11/site-packages/sqlite_utils/db.py:3305\u001b[39m, in \u001b[36mTable.insert_all\u001b[39m\u001b[34m(self, records, pk, foreign_keys, column_order, not_null, defaults, batch_size, hash_id, hash_id_columns, alter, ignore, replace, truncate, extracts, conversions, columns, upsert, analyze, strict)\u001b[39m\n\u001b[32m   3303\u001b[39m \u001b[38;5;66;03m# Peek at first record to count its columns:\u001b[39;00m\n\u001b[32m   3304\u001b[39m \u001b[38;5;28;01mtry\u001b[39;00m:\n\u001b[32m-> \u001b[39m\u001b[32m3305\u001b[39m     first_record = \u001b[38;5;28mnext\u001b[39m(records)\n\u001b[32m   3306\u001b[39m \u001b[38;5;28;01mexcept\u001b[39;00m \u001b[38;5;167;01mStopIteration\u001b[39;00m:\n\u001b[32m   3307\u001b[39m     \u001b[38;5;28;01mreturn\u001b[39;00m \u001b[38;5;28mself\u001b[39m  \u001b[38;5;66;03m# It was an empty list\u001b[39;00m\n",
      "\u001b[36mFile \u001b[39m\u001b[32m~/work/agent-arena/.venv/lib/python3.11/site-packages/sqlite_utils/db.py:3874\u001b[39m, in \u001b[36mfix_square_braces\u001b[39m\u001b[34m(records)\u001b[39m\n\u001b[32m   3872\u001b[39m \u001b[38;5;28;01mdef\u001b[39;00m\u001b[38;5;250m \u001b[39m\u001b[34mfix_square_braces\u001b[39m(records: Iterable[Dict[\u001b[38;5;28mstr\u001b[39m, Any]]):\n\u001b[32m   3873\u001b[39m     \u001b[38;5;28;01mfor\u001b[39;00m record \u001b[38;5;129;01min\u001b[39;00m records:\n\u001b[32m-> \u001b[39m\u001b[32m3874\u001b[39m         \u001b[38;5;28;01mif\u001b[39;00m \u001b[38;5;28many\u001b[39m(\u001b[33m\"\u001b[39m\u001b[33m[\u001b[39m\u001b[33m\"\u001b[39m \u001b[38;5;129;01min\u001b[39;00m key \u001b[38;5;129;01mor\u001b[39;00m \u001b[33m\"\u001b[39m\u001b[33m]\u001b[39m\u001b[33m\"\u001b[39m \u001b[38;5;129;01min\u001b[39;00m key \u001b[38;5;28;01mfor\u001b[39;00m key \u001b[38;5;129;01min\u001b[39;00m \u001b[43mrecord\u001b[49m\u001b[43m.\u001b[49m\u001b[43mkeys\u001b[49m()):\n\u001b[32m   3875\u001b[39m             \u001b[38;5;28;01myield\u001b[39;00m {\n\u001b[32m   3876\u001b[39m                 key.replace(\u001b[33m\"\u001b[39m\u001b[33m[\u001b[39m\u001b[33m\"\u001b[39m, \u001b[33m\"\u001b[39m\u001b[33m_\u001b[39m\u001b[33m\"\u001b[39m).replace(\u001b[33m\"\u001b[39m\u001b[33m]\u001b[39m\u001b[33m\"\u001b[39m, \u001b[33m\"\u001b[39m\u001b[33m_\u001b[39m\u001b[33m\"\u001b[39m): value\n\u001b[32m   3877\u001b[39m                 \u001b[38;5;28;01mfor\u001b[39;00m key, value \u001b[38;5;129;01min\u001b[39;00m record.items()\n\u001b[32m   3878\u001b[39m             }\n\u001b[32m   3879\u001b[39m         \u001b[38;5;28;01melse\u001b[39;00m:\n",
      "\u001b[31mAttributeError\u001b[39m: 'str' object has no attribute 'keys'"
     ]
    }
   ],
   "source": [
    "db = Database(\"test.db\")\n",
    "text = s.model_dump_json()\n",
    "print(text)\n",
    "db[\"strategies\"].insert(text, pk=\"id\")\n",
    "print(db[\"strategies\"].get(s.id))"
   ]
  },
  {
   "cell_type": "code",
   "execution_count": null,
   "id": "1a4c7c8a",
   "metadata": {},
   "outputs": [
    {
     "name": "stdout",
     "output_type": "stream",
     "text": [
      "{'1': Test(id='1', name='test1'), '2': Test(id='2', name='test2')}\n"
     ]
    }
   ],
   "source": [
    "# making a map from a list of dicts\n",
    "\n",
    "from pydantic import BaseModel\n",
    "import json\n",
    "\n",
    "class Test(BaseModel):\n",
    "    id: str\n",
    "    name: str\n",
    "    \n",
    "t1 = Test(id=\"1\", name=\"test1\")\n",
    "t2 = Test(id=\"2\", name=\"test2\")\n",
    "\n",
    "l = [t1, t2]\n",
    "d = {t.id: t for t in l}\n",
    "\n",
    "print(d)\n"
   ]
  }
 ],
 "metadata": {
  "kernelspec": {
   "display_name": ".venv",
   "language": "python",
   "name": "python3"
  },
  "language_info": {
   "codemirror_mode": {
    "name": "ipython",
    "version": 3
   },
   "file_extension": ".py",
   "mimetype": "text/x-python",
   "name": "python",
   "nbconvert_exporter": "python",
   "pygments_lexer": "ipython3",
   "version": "3.11.11"
  }
 },
 "nbformat": 4,
 "nbformat_minor": 5
}
