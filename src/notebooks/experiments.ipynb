{
 "cells": [
  {
   "cell_type": "code",
   "execution_count": 8,
   "id": "24a085b4",
   "metadata": {},
   "outputs": [
    {
     "name": "stdout",
     "output_type": "stream",
     "text": [
      "no\n"
     ]
    }
   ],
   "source": [
    "import sys\n",
    "import os\n",
    "sys.path.append(os.path.abspath('..'))\n",
    "from statemachine import StateMachine, State\n",
    "\n",
    "from datetime import datetime\n",
    "from pydantic import BaseModel, Field\n",
    "\n",
    "from ulid import ULID\n",
    "\n",
    "a  = {\"t\": \"\"}\n",
    "if getattr(a, 't', None):\n",
    "    print('yes')\n",
    "else:\n",
    "    print(\"no\")\n"
   ]
  },
  {
   "cell_type": "code",
   "execution_count": 2,
   "id": "ec7a5a73",
   "metadata": {},
   "outputs": [],
   "source": [
    "lines = open(\"../../etc/words.csv\",'r').readlines()\n",
    "len(lines)\n",
    "\n",
    "shorten = [line for line in lines if len(line)<8]\n",
    "\n",
    "work = []\n",
    "for line in shorten:\n",
    "    clean = line.lower()\n",
    "    if clean not in work:\n",
    "        work.append(clean)\n",
    "\n",
    "out = open(\"../../etc/shorter.csv\",'w')\n",
    "out.write(\"\".join(work))\n",
    "out.close()"
   ]
  },
  {
   "cell_type": "code",
   "execution_count": 27,
   "id": "c8c1fad9",
   "metadata": {},
   "outputs": [
    {
     "name": "stdout",
     "output_type": "stream",
     "text": [
      "current state: Initial\n"
     ]
    }
   ],
   "source": [
    "# exercise the state machine with no model\n",
    "\n",
    "sm = SimpleMachine()\n",
    "\n",
    "print (f\"current state: {sm.current_state}\")"
   ]
  },
  {
   "cell_type": "code",
   "execution_count": null,
   "id": "44e2adff",
   "metadata": {},
   "outputs": [
    {
     "name": "stdout",
     "output_type": "stream",
     "text": [
      "Initial\n",
      "SM self=initial, model=initial)\n",
      "{\"name\":\"first\",\"state\":\"initial\"}\n",
      "---\n",
      "None\n",
      "Final\n",
      "SM self=final, model=final)\n",
      "{\"name\":\"first\",\"state\":\"final\"}\n"
     ]
    }
   ],
   "source": [
    "# and with a bound model\n",
    "\n",
    "first = TestModel(\n",
    "    name=\"first\",\n",
    "    state=\"initial\"\n",
    ")\n",
    "m1 = SimpleMachine(first)\n",
    "\n",
    "print (m1.current_state)\n",
    "print (str(m1))\n",
    "print (first.model_dump_json())\n",
    "\n",
    "print ('---')\n",
    "m1.go()\n",
    "print (m1.current_state)\n",
    "print (str(m1))\n",
    "print (first.model_dump_json())\n",
    "\n",
    "\n"
   ]
  }
 ],
 "metadata": {
  "kernelspec": {
   "display_name": ".venv",
   "language": "python",
   "name": "python3"
  },
  "language_info": {
   "codemirror_mode": {
    "name": "ipython",
    "version": 3
   },
   "file_extension": ".py",
   "mimetype": "text/x-python",
   "name": "python",
   "nbconvert_exporter": "python",
   "pygments_lexer": "ipython3",
   "version": "3.11.11"
  }
 },
 "nbformat": 4,
 "nbformat_minor": 5
}
