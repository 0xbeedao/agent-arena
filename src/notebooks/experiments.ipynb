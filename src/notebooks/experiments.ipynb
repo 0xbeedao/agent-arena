{
 "cells": [
  {
   "cell_type": "markdown",
   "id": "5bc75242",
   "metadata": {},
   "source": []
  },
  {
   "cell_type": "code",
   "execution_count": 1,
   "id": "24a085b4",
   "metadata": {},
   "outputs": [
    {
     "data": {
      "text/plain": [
       "'/home/bruce/work/agent-arena'"
      ]
     },
     "execution_count": 1,
     "metadata": {},
     "output_type": "execute_result"
    }
   ],
   "source": [
    "import sys\n",
    "import os\n",
    "sys.path.append(os.path.abspath('..'))\n",
    "from statemachine import StateMachine, State\n",
    "\n",
    "from datetime import datetime\n",
    "from pydantic import BaseModel, Field\n",
    "\n",
    "from agentarena.util.files import find_directory_of_file\n",
    "find_directory_of_file(\"agent-arena-config.yaml\")"
   ]
  },
  {
   "cell_type": "code",
   "execution_count": 2,
   "id": "ec7a5a73",
   "metadata": {},
   "outputs": [],
   "source": [
    "lines = open(\"../../etc/words.csv\",'r').readlines()\n",
    "len(lines)\n",
    "\n",
    "shorten = [line for line in lines if len(line)<8]\n",
    "\n",
    "work = []\n",
    "for line in shorten:\n",
    "    clean = line.lower()\n",
    "    if clean not in work:\n",
    "        work.append(clean)\n",
    "\n",
    "out = open(\"../../etc/shorter.csv\",'w')\n",
    "out.write(\"\".join(work))\n",
    "out.close()"
   ]
  },
  {
   "cell_type": "code",
   "execution_count": 3,
   "id": "c8c1fad9",
   "metadata": {},
   "outputs": [
    {
     "ename": "NameError",
     "evalue": "name 'SimpleMachine' is not defined",
     "output_type": "error",
     "traceback": [
      "\u001b[31m---------------------------------------------------------------------------\u001b[39m",
      "\u001b[31mNameError\u001b[39m                                 Traceback (most recent call last)",
      "\u001b[36mCell\u001b[39m\u001b[36m \u001b[39m\u001b[32mIn[3]\u001b[39m\u001b[32m, line 3\u001b[39m\n\u001b[32m      1\u001b[39m \u001b[38;5;66;03m# exercise the state machine with no model\u001b[39;00m\n\u001b[32m----> \u001b[39m\u001b[32m3\u001b[39m sm = \u001b[43mSimpleMachine\u001b[49m()\n\u001b[32m      5\u001b[39m \u001b[38;5;28mprint\u001b[39m (\u001b[33mf\u001b[39m\u001b[33m\"\u001b[39m\u001b[33mcurrent state: \u001b[39m\u001b[38;5;132;01m{\u001b[39;00msm.current_state\u001b[38;5;132;01m}\u001b[39;00m\u001b[33m\"\u001b[39m)\n",
      "\u001b[31mNameError\u001b[39m: name 'SimpleMachine' is not defined"
     ]
    }
   ],
   "source": [
    "# exercise the state machine with no model\n",
    "\n",
    "sm = SimpleMachine()\n",
    "\n",
    "print (f\"current state: {sm.current_state}\")"
   ]
  },
  {
   "cell_type": "code",
   "execution_count": null,
   "id": "44e2adff",
   "metadata": {},
   "outputs": [
    {
     "name": "stdout",
     "output_type": "stream",
     "text": [
      "Initial\n",
      "SM self=initial, model=initial)\n",
      "{\"name\":\"first\",\"state\":\"initial\"}\n",
      "---\n",
      "None\n",
      "Final\n",
      "SM self=final, model=final)\n",
      "{\"name\":\"first\",\"state\":\"final\"}\n"
     ]
    }
   ],
   "source": [
    "# and with a bound model\n",
    "\n",
    "first = TestModel(\n",
    "    name=\"first\",\n",
    "    state=\"initial\"\n",
    ")\n",
    "m1 = SimpleMachine(first)\n",
    "\n",
    "print (m1.current_state)\n",
    "print (str(m1))\n",
    "print (first.model_dump_json())\n",
    "\n",
    "print ('---')\n",
    "m1.go()\n",
    "print (m1.current_state)\n",
    "print (str(m1))\n",
    "print (first.model_dump_json())\n",
    "\n",
    "\n"
   ]
  }
 ],
 "metadata": {
  "kernelspec": {
   "display_name": ".venv",
   "language": "python",
   "name": "python3"
  },
  "language_info": {
   "codemirror_mode": {
    "name": "ipython",
    "version": 3
   },
   "file_extension": ".py",
   "mimetype": "text/x-python",
   "name": "python",
   "nbconvert_exporter": "python",
   "pygments_lexer": "ipython3",
   "version": "3.11.11"
  }
 },
 "nbformat": 4,
 "nbformat_minor": 5
}
