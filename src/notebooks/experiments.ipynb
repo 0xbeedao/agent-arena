{
 "cells": [
  {
   "cell_type": "code",
   "execution_count": 5,
   "id": "24a085b4",
   "metadata": {},
   "outputs": [
    {
     "name": "stdout",
     "output_type": "stream",
     "text": [
      "{\"id\":\"test\",\"created_at\":null,\"updated_at\":null,\"arena_config_id\":\"test-arena-id\",\"status\":\"created\",\"started_at\":null,\"ended_at\":null}\n"
     ]
    }
   ],
   "source": [
    "import sys\n",
    "import os\n",
    "sys.path.append(os.path.abspath('..'))\n",
    "from agentarena.models.contest import Contest\n",
    "\n",
    "c = Contest.model_validate({\n",
    "    \"id\": \"test\",\n",
    "    \"arena_config_id\": \"test-arena-id\",\n",
    "})\n",
    "\n",
    "print (c.model_dump_json())"
   ]
  },
  {
   "cell_type": "code",
   "execution_count": 6,
   "id": "23956538",
   "metadata": {},
   "outputs": [
    {
     "name": "stdout",
     "output_type": "stream",
     "text": [
      "{\"id\":\"test\",\"created_at\":null,\"updated_at\":null,\"arena_config_id\":\"test-arena-id\",\"status\":\"created\",\"started_at\":null,\"ended_at\":null}\n"
     ]
    }
   ],
   "source": [
    "from agentarena.models.dbmodel import DbBase\n",
    "\n",
    "def format_base(model: DbBase):\n",
    "    print (model.model_dump_json())\n",
    "\n",
    "format_base(c)"
   ]
  }
 ],
 "metadata": {
  "kernelspec": {
   "display_name": ".venv",
   "language": "python",
   "name": "python3"
  },
  "language_info": {
   "codemirror_mode": {
    "name": "ipython",
    "version": 3
   },
   "file_extension": ".py",
   "mimetype": "text/x-python",
   "name": "python",
   "nbconvert_exporter": "python",
   "pygments_lexer": "ipython3",
   "version": "3.11.11"
  }
 },
 "nbformat": 4,
 "nbformat_minor": 5
}
