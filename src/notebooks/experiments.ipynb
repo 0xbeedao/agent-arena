{
 "cells": [
  {
   "cell_type": "code",
   "execution_count": 4,
   "id": "24a085b4",
   "metadata": {},
   "outputs": [
    {
     "name": "stdout",
     "output_type": "stream",
     "text": [
      "name=(FieldInfo(annotation=NoneType, required=True, description='the name'),)\n",
      "False\n",
      "True\n"
     ]
    },
    {
     "data": {
      "text/plain": [
       "False"
      ]
     },
     "execution_count": 4,
     "metadata": {},
     "output_type": "execute_result"
    }
   ],
   "source": [
    "import sys\n",
    "import os\n",
    "sys.path.append(os.path.abspath('..'))\n",
    "from statemachine import StateMachine, State\n",
    "\n",
    "from datetime import datetime\n",
    "from pydantic import BaseModel, Field\n",
    "\n",
    "class TestModel(BaseModel):\n",
    "    name: str  = Field(description=\"the name\"),\n",
    "    state: str = Field(description=\"the state\")\n",
    "\n",
    "class SimpleMachine(StateMachine):\n",
    "    initial = State(initial=True)\n",
    "    final = State(final=True)\n",
    "\n",
    "    go = initial.to(final)\n",
    "\n",
    "    def __str__(self):\n",
    "        return f\"SM self={self.current_state_value}, model={self.model.state})\"\n",
    "\n",
    "t = TestModel(name='test', state='initial')\n",
    "\n",
    "t.model_dump_json()\n",
    "\n",
    "x = TestModel.model_construct({\n",
    "    \"name\": \"x\",\n",
    "    \"state\": \"initial\"\n",
    "})\n",
    "\n",
    "print (x)\n",
    "\n",
    "z = {\n",
    "    \"a\": True\n",
    "}\n",
    "\n",
    "print('x' in z)\n",
    "print('a' in z)\n",
    "\n",
    "4 in [1,2,3]\n"
   ]
  },
  {
   "cell_type": "code",
   "execution_count": 27,
   "id": "c8c1fad9",
   "metadata": {},
   "outputs": [
    {
     "name": "stdout",
     "output_type": "stream",
     "text": [
      "current state: Initial\n"
     ]
    }
   ],
   "source": [
    "# exercise the state machine with no model\n",
    "\n",
    "sm = SimpleMachine()\n",
    "\n",
    "print (f\"current state: {sm.current_state}\")"
   ]
  },
  {
   "cell_type": "code",
   "execution_count": null,
   "id": "44e2adff",
   "metadata": {},
   "outputs": [
    {
     "name": "stdout",
     "output_type": "stream",
     "text": [
      "Initial\n",
      "SM self=initial, model=initial)\n",
      "{\"name\":\"first\",\"state\":\"initial\"}\n",
      "---\n",
      "None\n",
      "Final\n",
      "SM self=final, model=final)\n",
      "{\"name\":\"first\",\"state\":\"final\"}\n"
     ]
    }
   ],
   "source": [
    "# and with a bound model\n",
    "\n",
    "first = TestModel(\n",
    "    name=\"first\",\n",
    "    state=\"initial\"\n",
    ")\n",
    "m1 = SimpleMachine(first)\n",
    "\n",
    "print (m1.current_state)\n",
    "print (str(m1))\n",
    "print (first.model_dump_json())\n",
    "\n",
    "print ('---')\n",
    "m1.go()\n",
    "print (m1.current_state)\n",
    "print (str(m1))\n",
    "print (first.model_dump_json())\n",
    "\n",
    "\n"
   ]
  }
 ],
 "metadata": {
  "kernelspec": {
   "display_name": ".venv",
   "language": "python",
   "name": "python3"
  },
  "language_info": {
   "codemirror_mode": {
    "name": "ipython",
    "version": 3
   },
   "file_extension": ".py",
   "mimetype": "text/x-python",
   "name": "python",
   "nbconvert_exporter": "python",
   "pygments_lexer": "ipython3",
   "version": "3.11.11"
  }
 },
 "nbformat": 4,
 "nbformat_minor": 5
}
