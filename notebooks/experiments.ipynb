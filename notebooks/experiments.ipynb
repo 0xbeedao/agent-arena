{
 "cells": [
  {
   "cell_type": "markdown",
   "id": "5bc75242",
   "metadata": {},
   "source": []
  },
  {
   "cell_type": "code",
   "execution_count": 1,
   "id": "03c4a231",
   "metadata": {},
   "outputs": [
    {
     "name": "stderr",
     "output_type": "stream",
     "text": [
      "/tmp/ipykernel_23935/4056291517.py:8: UserWarning: All non-final states should have at least one outgoing transition. These states have no outgoing transition: ['failed', 'ready']\n",
      "  class CoffeeStateMachine(StateMachine):\n"
     ]
    }
   ],
   "source": [
    "from statemachine import StateMachine, State\n",
    "import logging\n",
    "\n",
    "# Configure logging\n",
    "logging.basicConfig(level=logging.INFO)\n",
    "logger = logging.getLogger(__name__)\n",
    "\n",
    "\n",
    "class CoffeeStateMachine(StateMachine):\n",
    "    \"A state machine to simulate making a cup of coffee\"\n",
    "\n",
    "    # Define states\n",
    "    idle = State(\"Idle\", initial=True)\n",
    "    boil_water = State(\"Boil Water\")\n",
    "    grind_coffee = State(\"Grind Coffee\")\n",
    "    brew_coffee = State(\"Brew Coffee\")\n",
    "    pour_coffee = State(\"Pour Coffee\")\n",
    "    failed = State(\"Failed\", final=True)\n",
    "    ready = State(\"Ready\", final=True)\n",
    "\n",
    "    # Define transitions\n",
    "    start = idle.to(boil_water)\n",
    "    boiled = boil_water.to(grind_coffee)\n",
    "    ground = grind_coffee.to(brew_coffee)\n",
    "    brewed = brew_coffee.to(pour_coffee)\n",
    "    poured = pour_coffee.to(ready)\n",
    "    fail = (\n",
    "        idle.to(failed)\n",
    "        | boil_water.to(failed)\n",
    "        | grind_coffee.to(failed)\n",
    "        | brew_coffee.to(failed)\n",
    "        | pour_coffee.to(failed)\n",
    "    )\n",
    "\n",
    "    # On enter methods\n",
    "    async def on_enter_idle(self):\n",
    "        logger.info(\"Entering Idle State\")\n",
    "\n",
    "    async def on_enter_boil_water(self):\n",
    "        logger.info(\"Entering Boil Water State\")\n",
    "\n",
    "    async def on_enter_grind_coffee(self):\n",
    "        logger.info(\"Entering Grind Coffee State\")\n",
    "\n",
    "    async def on_enter_brew_coffee(self):\n",
    "        logger.info(\"Entering Brew Coffee State\")\n",
    "\n",
    "    async def on_enter_pour_coffee(self):\n",
    "        logger.info(\"Entering Pour Coffee State\")\n",
    "\n",
    "    async def on_enter_failed(self):\n",
    "        logger.info(\"Entering Failed State\")\n",
    "\n",
    "    async def on_enter_ready(self):\n",
    "        logger.info(\"Entering Ready State\")"
   ]
  },
  {
   "cell_type": "code",
   "execution_count": 7,
   "id": "e17415fc",
   "metadata": {},
   "outputs": [
    {
     "name": "stderr",
     "output_type": "stream",
     "text": [
      "INFO:__main__:Entering Boil Water State\n",
      "INFO:__main__:started\n"
     ]
    },
    {
     "ename": "TypeError",
     "evalue": "object NoneType can't be used in 'await' expression",
     "output_type": "error",
     "traceback": [
      "\u001b[31m---------------------------------------------------------------------------\u001b[39m",
      "\u001b[31mTypeError\u001b[39m                                 Traceback (most recent call last)",
      "\u001b[36mCell\u001b[39m\u001b[36m \u001b[39m\u001b[32mIn[7]\u001b[39m\u001b[32m, line 6\u001b[39m\n\u001b[32m      3\u001b[39m     logger.info(\u001b[33m\"\u001b[39m\u001b[33mstarted\u001b[39m\u001b[33m\"\u001b[39m)\n\u001b[32m      4\u001b[39m     \u001b[38;5;28;01mawait\u001b[39;00m cm.activate_initial_state()\n\u001b[32m----> \u001b[39m\u001b[32m6\u001b[39m \u001b[38;5;28;01mawait\u001b[39;00m tester()\n",
      "\u001b[36mCell\u001b[39m\u001b[36m \u001b[39m\u001b[32mIn[7]\u001b[39m\u001b[32m, line 4\u001b[39m, in \u001b[36mtester\u001b[39m\u001b[34m()\u001b[39m\n\u001b[32m      2\u001b[39m cm = CoffeeStateMachine(start_value=\u001b[33m'\u001b[39m\u001b[33mboil_water\u001b[39m\u001b[33m'\u001b[39m)\n\u001b[32m      3\u001b[39m logger.info(\u001b[33m\"\u001b[39m\u001b[33mstarted\u001b[39m\u001b[33m\"\u001b[39m)\n\u001b[32m----> \u001b[39m\u001b[32m4\u001b[39m \u001b[38;5;28;01mawait\u001b[39;00m cm.activate_initial_state()\n",
      "\u001b[31mTypeError\u001b[39m: object NoneType can't be used in 'await' expression"
     ]
    }
   ],
   "source": [
    "async def tester():\n",
    "    cm = CoffeeStateMachine(start_value=\"boil_water\")\n",
    "    logger.info(\"started\")\n",
    "    await cm.activate_initial_state()\n",
    "\n",
    "\n",
    "await tester()"
   ]
  },
  {
   "cell_type": "code",
   "execution_count": 5,
   "id": "41e87427",
   "metadata": {},
   "outputs": [
    {
     "name": "stdout",
     "output_type": "stream",
     "text": [
      "{\n",
      "  \"action\": \"move\",\n",
      "  \"target\": \"5,5\",\n",
      "  \"narration\": \"Maia charges towards the flag, eyes locked on the Spectral Standard. The crowd's cheers fuel her determination as she navigates the castle courtyard.\",\n",
      "  \"memories\": \"Remember the flag's location at 5,5 and the presence of other players and features like the Beweaponed Balustrade and Treacherous Tapestry.\",\n",
      "  \"inner\": \"{\\\"field\\\":\\\"value\\\",\\\"field2\\\":\\\"value with\\\\\\\"quotes\\\\\\\"\\\"}\"\n",
      "}\n",
      "{\n",
      "  \"action\": \"move\",\n",
      "  \"target\": \"5,5\",\n",
      "  \"narration\": \"Maia charges towards the flag, eyes locked on the Spectral Standard. The crowd's cheers fuel her determination as she navigates the castle courtyard.\",\n",
      "  \"memories\": \"Remember the flag's location at 5,5 and the presence of other players and features like the Beweaponed Balustrade and Treacherous Tapestry.\",\n",
      "  \"inner\": {\n",
      "    \"field\": \"value\",\n",
      "    \"field2\": \"value with\\\"quotes\\\"\"\n",
      "  }\n",
      "}\n"
     ]
    }
   ],
   "source": [
    "from codecs import encode, decode\n",
    "import json\n",
    "from pydantic import BaseModel\n",
    "\n",
    "\n",
    "class Other(BaseModel):\n",
    "    field: str\n",
    "    field2: str\n",
    "\n",
    "\n",
    "inner = Other(field=\"value\", field2='value with\"quotes\"')\n",
    "\n",
    "obj = {\n",
    "    \"action\": \"move\",\n",
    "    \"target\": \"5,5\",\n",
    "    \"narration\": \"Maia charges towards the flag, eyes locked on the Spectral Standard. The crowd's cheers fuel her determination as she navigates the castle courtyard.\",\n",
    "    \"memories\": \"Remember the flag's location at 5,5 and the presence of other players and features like the Beweaponed Balustrade and Treacherous Tapestry.\",\n",
    "    \"inner\": inner.model_dump_json(),\n",
    "}\n",
    "\n",
    "print(json.dumps(obj, indent=2))\n",
    "\n",
    "obj2 = {\n",
    "    \"action\": \"move\",\n",
    "    \"target\": \"5,5\",\n",
    "    \"narration\": \"Maia charges towards the flag, eyes locked on the Spectral Standard. The crowd's cheers fuel her determination as she navigates the castle courtyard.\",\n",
    "    \"memories\": \"Remember the flag's location at 5,5 and the presence of other players and features like the Beweaponed Balustrade and Treacherous Tapestry.\",\n",
    "    \"inner\": inner.model_dump(),\n",
    "}\n",
    "\n",
    "print(json.dumps(obj2, indent=2))"
   ]
  },
  {
   "cell_type": "markdown",
   "id": "ca5d6aae",
   "metadata": {},
   "source": []
  },
  {
   "cell_type": "code",
   "execution_count": 1,
   "id": "24a085b4",
   "metadata": {},
   "outputs": [],
   "source": [
    "import sys\n",
    "import os\n",
    "import json\n",
    "\n",
    "sys.path.append(os.path.abspath(\"..\"))\n",
    "\n",
    "import llm\n",
    "from agentarena.models.constants import DEFAULT_AGENT_MODEL\n",
    "\n",
    "model = llm.get_model(DEFAULT_AGENT_MODEL)"
   ]
  },
  {
   "cell_type": "code",
   "execution_count": 2,
   "id": "ec7a5a73",
   "metadata": {},
   "outputs": [
    {
     "name": "stdout",
     "output_type": "stream",
     "text": [
      "To test the API setup, here is the name of a bird:  \n",
      "**Northern Cardinal** (a common and brightly colored bird native to North America).  \n",
      "\n",
      "If you need more examples, alternatives include:  \n",
      "- Blue Jay  \n",
      "- Peregrine Falcon  \n",
      "- Ruby-throated Hummingbird  \n",
      "\n",
      "Let me know if you'd like additional details or another test! 🐦\n"
     ]
    }
   ],
   "source": [
    "response = model.prompt(\n",
    "    \"This is a test of API setup, respond with the name of any bird\"\n",
    ")\n",
    "print(response.text())"
   ]
  },
  {
   "cell_type": "code",
   "execution_count": 6,
   "id": "c8c1fad9",
   "metadata": {},
   "outputs": [
    {
     "name": "stdout",
     "output_type": "stream",
     "text": [
      "[{'channel': 'child.channel', 'data': '\"{\\\\\"parent\\\\\": \\\\\"result\\\\\"}\"', 'delay': 0, 'method': 'GET', 'url': 'http://example.com/child', 'job_id': '0197407c8fa32daaf1a075897dd313bd', 'message': 'batch complete', 'state': 'complete', 'child_data': []}]\n"
     ]
    }
   ],
   "source": [
    "import json\n",
    "\n",
    "x = b'{\"channel\":\"parent.channel\",\"data\":\"{\\\\\"parent\\\\\": \\\\\"result\\\\\"}\",\"delay\":0,\"method\":\"MESSAGE\",\"url\":\"\",\"job_id\":\"0197407c8f923a42687fc118eb4ef5b9\",\"message\":\"batch complete\",\"state\":\"complete\",\"child_data\":[{\"channel\":\"child.channel\",\"data\":\"\\\\\"{\\\\\\\\\\\\\"parent\\\\\\\\\\\\\": \\\\\\\\\\\\\"result\\\\\\\\\\\\\"}\\\\\"\",\"delay\":0,\"method\":\"GET\",\"url\":\"http://example.com/child\",\"job_id\":\"0197407c8fa32daaf1a075897dd313bd\",\"message\":\"batch complete\",\"state\":\"complete\",\"child_data\":[]}]}'\n",
    "loaded = json.loads(x)\n",
    "print(loaded[\"child_data\"])"
   ]
  }
 ],
 "metadata": {
  "kernelspec": {
   "display_name": ".venv",
   "language": "python",
   "name": "python3"
  },
  "language_info": {
   "codemirror_mode": {
    "name": "ipython",
    "version": 3
   },
   "file_extension": ".py",
   "mimetype": "text/x-python",
   "name": "python",
   "nbconvert_exporter": "python",
   "pygments_lexer": "ipython3",
   "version": "3.11.11"
  }
 },
 "nbformat": 4,
 "nbformat_minor": 5
}
