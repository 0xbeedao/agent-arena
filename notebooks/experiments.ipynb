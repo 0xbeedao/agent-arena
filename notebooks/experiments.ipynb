{
 "cells": [
  {
   "cell_type": "markdown",
   "id": "5bc75242",
   "metadata": {},
   "source": []
  },
  {
   "cell_type": "code",
   "execution_count": 1,
   "id": "24a085b4",
   "metadata": {},
   "outputs": [],
   "source": [
    "import sys\n",
    "import os\n",
    "import json\n",
    "\n",
    "sys.path.append(os.path.abspath(\"..\"))\n",
    "\n",
    "import llm\n",
    "from agentarena.models.constants import DEFAULT_AGENT_MODEL\n",
    "\n",
    "model = llm.get_model(DEFAULT_AGENT_MODEL)"
   ]
  },
  {
   "cell_type": "code",
   "execution_count": 2,
   "id": "ec7a5a73",
   "metadata": {},
   "outputs": [
    {
     "name": "stdout",
     "output_type": "stream",
     "text": [
      "To test the API setup, here is the name of a bird:  \n",
      "**Northern Cardinal** (a common and brightly colored bird native to North America).  \n",
      "\n",
      "If you need more examples, alternatives include:  \n",
      "- Blue Jay  \n",
      "- Peregrine Falcon  \n",
      "- Ruby-throated Hummingbird  \n",
      "\n",
      "Let me know if you'd like additional details or another test! 🐦\n"
     ]
    }
   ],
   "source": [
    "response = model.prompt(\n",
    "    \"This is a test of API setup, respond with the name of any bird\"\n",
    ")\n",
    "print(response.text())"
   ]
  },
  {
   "cell_type": "code",
   "execution_count": 6,
   "id": "c8c1fad9",
   "metadata": {},
   "outputs": [
    {
     "name": "stdout",
     "output_type": "stream",
     "text": [
      "[{'channel': 'child.channel', 'data': '\"{\\\\\"parent\\\\\": \\\\\"result\\\\\"}\"', 'delay': 0, 'method': 'GET', 'url': 'http://example.com/child', 'job_id': '0197407c8fa32daaf1a075897dd313bd', 'message': 'batch complete', 'state': 'complete', 'child_data': []}]\n"
     ]
    }
   ],
   "source": [
    "import json\n",
    "\n",
    "x = b'{\"channel\":\"parent.channel\",\"data\":\"{\\\\\"parent\\\\\": \\\\\"result\\\\\"}\",\"delay\":0,\"method\":\"MESSAGE\",\"url\":\"\",\"job_id\":\"0197407c8f923a42687fc118eb4ef5b9\",\"message\":\"batch complete\",\"state\":\"complete\",\"child_data\":[{\"channel\":\"child.channel\",\"data\":\"\\\\\"{\\\\\\\\\\\\\"parent\\\\\\\\\\\\\": \\\\\\\\\\\\\"result\\\\\\\\\\\\\"}\\\\\"\",\"delay\":0,\"method\":\"GET\",\"url\":\"http://example.com/child\",\"job_id\":\"0197407c8fa32daaf1a075897dd313bd\",\"message\":\"batch complete\",\"state\":\"complete\",\"child_data\":[]}]}'\n",
    "loaded = json.loads(x)\n",
    "print(loaded[\"child_data\"])"
   ]
  }
 ],
 "metadata": {
  "kernelspec": {
   "display_name": ".venv",
   "language": "python",
   "name": "python3"
  },
  "language_info": {
   "codemirror_mode": {
    "name": "ipython",
    "version": 3
   },
   "file_extension": ".py",
   "mimetype": "text/x-python",
   "name": "python",
   "nbconvert_exporter": "python",
   "pygments_lexer": "ipython3",
   "version": "3.11.11"
  }
 },
 "nbformat": 4,
 "nbformat_minor": 5
}
