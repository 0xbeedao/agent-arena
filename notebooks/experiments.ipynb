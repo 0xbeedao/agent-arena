{
 "cells": [
  {
   "cell_type": "markdown",
   "id": "5bc75242",
   "metadata": {},
   "source": []
  },
  {
   "cell_type": "code",
   "execution_count": null,
   "id": "24a085b4",
   "metadata": {},
   "outputs": [
    {
     "data": {
      "text/plain": [
       "'/home/bruce/work/agent-arena'"
      ]
     },
     "execution_count": 1,
     "metadata": {},
     "output_type": "execute_result"
    }
   ],
   "source": [
    "import sys\n",
    "import os\n",
    "import json\n",
    "sys.path.append(os.path.abspath(\"..\"))\n",
    "\n",
    "from agentarena.models.requests import ParticipantRequest\n",
    "\n",
    "raw = '{\"job_id\":\"time-Guided-Sore-Round-Tall\",\"command\":\"arena.generate_features\",\"data\":\"{\\\\\"id\\\\\":\\\\\"true-proud-peel-wary-Expres\\\\\",\\\\\"arena\\\\\":{\\\\\"id\\\\\":\\\\\"exist-TEN-Pest-digi-Crowd\\\\\",\\\\\"name\\\\\":\\\\\"Flag Castle\\\\\",\\\\\"description\\\\\":\\\\\"A capture the flag game set in a castle courtyard, with viewers cheering on from the walls lining the courtyard\\\\\",\\\\\"height\\\\\":10,\\\\\"max_random_features\\\\\":5,\\\\\"width\\\\\":10,\\\\\"rules\\\\\":\\\\\"Capture the flag. No fighting. Players move up to 2 spaces, if running, but may trip or be vulnerable when doing so. Players may only grab the flag or place it on the base from one space away.\\\\\",\\\\\"winning_condition\\\\\":\\\\\"First player to bring the flag to the base wins\\\\\"},\\\\\"end_time\\\\\":0,\\\\\"round\\\\\":{\\\\\"features\\\\\":[{\\\\\"description\\\\\":\\\\\"the flag the players are seeking to capture\\\\\",\\\\\"name\\\\\":\\\\\"flag\\\\\",\\\\\"position\\\\\":\\\\\"5,5\\\\\"},{\\\\\"description\\\\\":\\\\\"the scoring base\\\\\",\\\\\"name\\\\\":\\\\\"base\\\\\",\\\\\"position\\\\\":\\\\\"1,5\\\\\"}],\\\\\"narrative\\\\\":\\\\\"\\\\\",\\\\\"players\\\\\":[],\\\\\"round_no\\\\\":0,\\\\\"state\\\\\":\\\\\"idle\\\\\"},\\\\\"start_time\\\\\":1749061601,\\\\\"state\\\\\":\\\\\"starting\\\\\",\\\\\"winner\\\\\":null}\",\"message\":\"\",\"state\":null}'\n",
    "\n",
    "p = ParticipantRequest.pa\n"
   ]
  },
  {
   "cell_type": "code",
   "execution_count": 2,
   "id": "ec7a5a73",
   "metadata": {},
   "outputs": [],
   "source": [
    "lines = open(\"../../etc/words.csv\", \"r\").readlines()\n",
    "len(lines)\n",
    "\n",
    "shorten = [line for line in lines if len(line) < 8]\n",
    "\n",
    "work = []\n",
    "for line in shorten:\n",
    "    clean = line.lower()\n",
    "    if clean not in work:\n",
    "        work.append(clean)\n",
    "\n",
    "out = open(\"../../etc/shorter.csv\", \"w\")\n",
    "out.write(\"\".join(work))\n",
    "out.close()"
   ]
  },
  {
   "cell_type": "code",
   "execution_count": 3,
   "id": "c8c1fad9",
   "metadata": {},
   "outputs": [
    {
     "ename": "NameError",
     "evalue": "name 'SimpleMachine' is not defined",
     "output_type": "error",
     "traceback": [
      "\u001b[31m---------------------------------------------------------------------------\u001b[39m",
      "\u001b[31mNameError\u001b[39m                                 Traceback (most recent call last)",
      "\u001b[36mCell\u001b[39m\u001b[36m \u001b[39m\u001b[32mIn[3]\u001b[39m\u001b[32m, line 3\u001b[39m\n\u001b[32m      1\u001b[39m \u001b[38;5;66;03m# exercise the state machine with no model\u001b[39;00m\n\u001b[32m----> \u001b[39m\u001b[32m3\u001b[39m sm = \u001b[43mSimpleMachine\u001b[49m()\n\u001b[32m      5\u001b[39m \u001b[38;5;28mprint\u001b[39m (\u001b[33mf\u001b[39m\u001b[33m\"\u001b[39m\u001b[33mcurrent state: \u001b[39m\u001b[38;5;132;01m{\u001b[39;00msm.current_state\u001b[38;5;132;01m}\u001b[39;00m\u001b[33m\"\u001b[39m)\n",
      "\u001b[31mNameError\u001b[39m: name 'SimpleMachine' is not defined"
     ]
    }
   ],
   "source": [
    "# exercise the state machine with no model\n",
    "\n",
    "sm = SimpleMachine()\n",
    "\n",
    "print(f\"current state: {sm.current_state}\")"
   ]
  },
  {
   "cell_type": "code",
   "execution_count": null,
   "id": "44e2adff",
   "metadata": {},
   "outputs": [
    {
     "name": "stdout",
     "output_type": "stream",
     "text": [
      "Initial\n",
      "SM self=initial, model=initial)\n",
      "{\"name\":\"first\",\"state\":\"initial\"}\n",
      "---\n",
      "None\n",
      "Final\n",
      "SM self=final, model=final)\n",
      "{\"name\":\"first\",\"state\":\"final\"}\n"
     ]
    }
   ],
   "source": [
    "# and with a bound model\n",
    "\n",
    "first = TestModel(name=\"first\", state=\"initial\")\n",
    "m1 = SimpleMachine(first)\n",
    "\n",
    "print(m1.current_state)\n",
    "print(str(m1))\n",
    "print(first.model_dump_json())\n",
    "\n",
    "print(\"---\")\n",
    "m1.go()\n",
    "print(m1.current_state)\n",
    "print(str(m1))\n",
    "print(first.model_dump_json())"
   ]
  }
 ],
 "metadata": {
  "kernelspec": {
   "display_name": ".venv",
   "language": "python",
   "name": "python3"
  },
  "language_info": {
   "codemirror_mode": {
    "name": "ipython",
    "version": 3
   },
   "file_extension": ".py",
   "mimetype": "text/x-python",
   "name": "python",
   "nbconvert_exporter": "python",
   "pygments_lexer": "ipython3",
   "version": "3.11.11"
  }
 },
 "nbformat": 4,
 "nbformat_minor": 5
}
